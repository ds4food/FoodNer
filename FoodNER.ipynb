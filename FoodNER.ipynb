{
  "nbformat": 4,
  "nbformat_minor": 0,
  "metadata": {
    "colab": {
      "name": "FoodNER.ipynb",
      "provenance": [],
      "collapsed_sections": []
    },
    "kernelspec": {
      "name": "python3",
      "display_name": "Python 3"
    },
    "accelerator": "GPU",
    "widgets": {
      "application/vnd.jupyter.widget-state+json": {
        "b8f007606d2b456880287334c85c4651": {
          "model_module": "@jupyter-widgets/controls",
          "model_name": "HBoxModel",
          "state": {
            "_view_name": "HBoxView",
            "_dom_classes": [],
            "_model_name": "HBoxModel",
            "_view_module": "@jupyter-widgets/controls",
            "_model_module_version": "1.5.0",
            "_view_count": null,
            "_view_module_version": "1.5.0",
            "box_style": "",
            "layout": "IPY_MODEL_def774c2b02044a0a36e7002cb61b6ff",
            "_model_module": "@jupyter-widgets/controls",
            "children": [
              "IPY_MODEL_fe8d1a6074ea420c97627285d7a19993",
              "IPY_MODEL_535ee9477c064f6ba4ec030aa3e0004b"
            ]
          }
        },
        "def774c2b02044a0a36e7002cb61b6ff": {
          "model_module": "@jupyter-widgets/base",
          "model_name": "LayoutModel",
          "state": {
            "_view_name": "LayoutView",
            "grid_template_rows": null,
            "right": null,
            "justify_content": null,
            "_view_module": "@jupyter-widgets/base",
            "overflow": null,
            "_model_module_version": "1.2.0",
            "_view_count": null,
            "flex_flow": null,
            "width": null,
            "min_width": null,
            "border": null,
            "align_items": null,
            "bottom": null,
            "_model_module": "@jupyter-widgets/base",
            "top": null,
            "grid_column": null,
            "overflow_y": null,
            "overflow_x": null,
            "grid_auto_flow": null,
            "grid_area": null,
            "grid_template_columns": null,
            "flex": null,
            "_model_name": "LayoutModel",
            "justify_items": null,
            "grid_row": null,
            "max_height": null,
            "align_content": null,
            "visibility": null,
            "align_self": null,
            "height": null,
            "min_height": null,
            "padding": null,
            "grid_auto_rows": null,
            "grid_gap": null,
            "max_width": null,
            "order": null,
            "_view_module_version": "1.2.0",
            "grid_template_areas": null,
            "object_position": null,
            "object_fit": null,
            "grid_auto_columns": null,
            "margin": null,
            "display": null,
            "left": null
          }
        },
        "fe8d1a6074ea420c97627285d7a19993": {
          "model_module": "@jupyter-widgets/controls",
          "model_name": "FloatProgressModel",
          "state": {
            "_view_name": "ProgressView",
            "style": "IPY_MODEL_1d59b83436ae4fed822b27ae34c37990",
            "_dom_classes": [],
            "description": "Downloading: 100%",
            "_model_name": "FloatProgressModel",
            "bar_style": "success",
            "max": 213450,
            "_view_module": "@jupyter-widgets/controls",
            "_model_module_version": "1.5.0",
            "value": 213450,
            "_view_count": null,
            "_view_module_version": "1.5.0",
            "orientation": "horizontal",
            "min": 0,
            "description_tooltip": null,
            "_model_module": "@jupyter-widgets/controls",
            "layout": "IPY_MODEL_a7f5dbbd06904b558c33b6ab99d2bebf"
          }
        },
        "535ee9477c064f6ba4ec030aa3e0004b": {
          "model_module": "@jupyter-widgets/controls",
          "model_name": "HTMLModel",
          "state": {
            "_view_name": "HTMLView",
            "style": "IPY_MODEL_23dda5af8b1d49e5a05f2583ac644a72",
            "_dom_classes": [],
            "description": "",
            "_model_name": "HTMLModel",
            "placeholder": "​",
            "_view_module": "@jupyter-widgets/controls",
            "_model_module_version": "1.5.0",
            "value": " 213k/213k [00:00&lt;00:00, 762kB/s]",
            "_view_count": null,
            "_view_module_version": "1.5.0",
            "description_tooltip": null,
            "_model_module": "@jupyter-widgets/controls",
            "layout": "IPY_MODEL_29cb759d1ef3441ea3a915982b30000e"
          }
        },
        "1d59b83436ae4fed822b27ae34c37990": {
          "model_module": "@jupyter-widgets/controls",
          "model_name": "ProgressStyleModel",
          "state": {
            "_view_name": "StyleView",
            "_model_name": "ProgressStyleModel",
            "description_width": "initial",
            "_view_module": "@jupyter-widgets/base",
            "_model_module_version": "1.5.0",
            "_view_count": null,
            "_view_module_version": "1.2.0",
            "bar_color": null,
            "_model_module": "@jupyter-widgets/controls"
          }
        },
        "a7f5dbbd06904b558c33b6ab99d2bebf": {
          "model_module": "@jupyter-widgets/base",
          "model_name": "LayoutModel",
          "state": {
            "_view_name": "LayoutView",
            "grid_template_rows": null,
            "right": null,
            "justify_content": null,
            "_view_module": "@jupyter-widgets/base",
            "overflow": null,
            "_model_module_version": "1.2.0",
            "_view_count": null,
            "flex_flow": null,
            "width": null,
            "min_width": null,
            "border": null,
            "align_items": null,
            "bottom": null,
            "_model_module": "@jupyter-widgets/base",
            "top": null,
            "grid_column": null,
            "overflow_y": null,
            "overflow_x": null,
            "grid_auto_flow": null,
            "grid_area": null,
            "grid_template_columns": null,
            "flex": null,
            "_model_name": "LayoutModel",
            "justify_items": null,
            "grid_row": null,
            "max_height": null,
            "align_content": null,
            "visibility": null,
            "align_self": null,
            "height": null,
            "min_height": null,
            "padding": null,
            "grid_auto_rows": null,
            "grid_gap": null,
            "max_width": null,
            "order": null,
            "_view_module_version": "1.2.0",
            "grid_template_areas": null,
            "object_position": null,
            "object_fit": null,
            "grid_auto_columns": null,
            "margin": null,
            "display": null,
            "left": null
          }
        },
        "23dda5af8b1d49e5a05f2583ac644a72": {
          "model_module": "@jupyter-widgets/controls",
          "model_name": "DescriptionStyleModel",
          "state": {
            "_view_name": "StyleView",
            "_model_name": "DescriptionStyleModel",
            "description_width": "",
            "_view_module": "@jupyter-widgets/base",
            "_model_module_version": "1.5.0",
            "_view_count": null,
            "_view_module_version": "1.2.0",
            "_model_module": "@jupyter-widgets/controls"
          }
        },
        "29cb759d1ef3441ea3a915982b30000e": {
          "model_module": "@jupyter-widgets/base",
          "model_name": "LayoutModel",
          "state": {
            "_view_name": "LayoutView",
            "grid_template_rows": null,
            "right": null,
            "justify_content": null,
            "_view_module": "@jupyter-widgets/base",
            "overflow": null,
            "_model_module_version": "1.2.0",
            "_view_count": null,
            "flex_flow": null,
            "width": null,
            "min_width": null,
            "border": null,
            "align_items": null,
            "bottom": null,
            "_model_module": "@jupyter-widgets/base",
            "top": null,
            "grid_column": null,
            "overflow_y": null,
            "overflow_x": null,
            "grid_auto_flow": null,
            "grid_area": null,
            "grid_template_columns": null,
            "flex": null,
            "_model_name": "LayoutModel",
            "justify_items": null,
            "grid_row": null,
            "max_height": null,
            "align_content": null,
            "visibility": null,
            "align_self": null,
            "height": null,
            "min_height": null,
            "padding": null,
            "grid_auto_rows": null,
            "grid_gap": null,
            "max_width": null,
            "order": null,
            "_view_module_version": "1.2.0",
            "grid_template_areas": null,
            "object_position": null,
            "object_fit": null,
            "grid_auto_columns": null,
            "margin": null,
            "display": null,
            "left": null
          }
        }
      }
    }
  },
  "cells": [
    {
      "cell_type": "markdown",
      "metadata": {
        "id": "M0NEp-_Gu4h4",
        "colab_type": "text"
      },
      "source": [
        "# Bert NER using BIO format\n",
        "This notebook follows the tutorial: https://www.depends-on-the-definition.com/named-entity-recognition-with-bert/?fbclid=IwAR0jI8JgegMSVJ_5k2i4hzlyedLxmR0UuPzjfK8LavaO7z3yUqNRRJiJsr4\n"
      ]
    },
    {
      "cell_type": "markdown",
      "metadata": {
        "id": "UyVXvl_9xSZn",
        "colab_type": "text"
      },
      "source": [
        "##Installing dependencies"
      ]
    },
    {
      "cell_type": "code",
      "metadata": {
        "id": "5xQWnjo9fdv9",
        "colab_type": "code",
        "outputId": "5135b29d-82be-4417-d046-b65cd84a0b18",
        "colab": {
          "base_uri": "https://localhost:8080/",
          "height": 955
        }
      },
      "source": [
        "!pip install transformers==2.6.0\n",
        "!pip install seqeval"
      ],
      "execution_count": 0,
      "outputs": [
        {
          "output_type": "stream",
          "text": [
            "Collecting transformers==2.6.0\n",
            "\u001b[?25l  Downloading https://files.pythonhosted.org/packages/4c/a0/32e3a4501ef480f7ea01aac329a716132f32f7911ef1c2fac228acc57ca7/transformers-2.6.0-py3-none-any.whl (540kB)\n",
            "\r\u001b[K     |▋                               | 10kB 30.4MB/s eta 0:00:01\r\u001b[K     |█▏                              | 20kB 6.0MB/s eta 0:00:01\r\u001b[K     |█▉                              | 30kB 7.2MB/s eta 0:00:01\r\u001b[K     |██▍                             | 40kB 7.8MB/s eta 0:00:01\r\u001b[K     |███                             | 51kB 6.7MB/s eta 0:00:01\r\u001b[K     |███▋                            | 61kB 7.9MB/s eta 0:00:01\r\u001b[K     |████▎                           | 71kB 7.9MB/s eta 0:00:01\r\u001b[K     |████▉                           | 81kB 8.9MB/s eta 0:00:01\r\u001b[K     |█████▌                          | 92kB 8.1MB/s eta 0:00:01\r\u001b[K     |██████                          | 102kB 8.3MB/s eta 0:00:01\r\u001b[K     |██████▋                         | 112kB 8.3MB/s eta 0:00:01\r\u001b[K     |███████▎                        | 122kB 8.3MB/s eta 0:00:01\r\u001b[K     |███████▉                        | 133kB 8.3MB/s eta 0:00:01\r\u001b[K     |████████▌                       | 143kB 8.3MB/s eta 0:00:01\r\u001b[K     |█████████                       | 153kB 8.3MB/s eta 0:00:01\r\u001b[K     |█████████▊                      | 163kB 8.3MB/s eta 0:00:01\r\u001b[K     |██████████▎                     | 174kB 8.3MB/s eta 0:00:01\r\u001b[K     |███████████                     | 184kB 8.3MB/s eta 0:00:01\r\u001b[K     |███████████▌                    | 194kB 8.3MB/s eta 0:00:01\r\u001b[K     |████████████▏                   | 204kB 8.3MB/s eta 0:00:01\r\u001b[K     |████████████▊                   | 215kB 8.3MB/s eta 0:00:01\r\u001b[K     |█████████████▎                  | 225kB 8.3MB/s eta 0:00:01\r\u001b[K     |██████████████                  | 235kB 8.3MB/s eta 0:00:01\r\u001b[K     |██████████████▌                 | 245kB 8.3MB/s eta 0:00:01\r\u001b[K     |███████████████▏                | 256kB 8.3MB/s eta 0:00:01\r\u001b[K     |███████████████▊                | 266kB 8.3MB/s eta 0:00:01\r\u001b[K     |████████████████▍               | 276kB 8.3MB/s eta 0:00:01\r\u001b[K     |█████████████████               | 286kB 8.3MB/s eta 0:00:01\r\u001b[K     |█████████████████▋              | 296kB 8.3MB/s eta 0:00:01\r\u001b[K     |██████████████████▏             | 307kB 8.3MB/s eta 0:00:01\r\u001b[K     |██████████████████▉             | 317kB 8.3MB/s eta 0:00:01\r\u001b[K     |███████████████████▍            | 327kB 8.3MB/s eta 0:00:01\r\u001b[K     |████████████████████            | 337kB 8.3MB/s eta 0:00:01\r\u001b[K     |████████████████████▋           | 348kB 8.3MB/s eta 0:00:01\r\u001b[K     |█████████████████████▏          | 358kB 8.3MB/s eta 0:00:01\r\u001b[K     |█████████████████████▉          | 368kB 8.3MB/s eta 0:00:01\r\u001b[K     |██████████████████████▍         | 378kB 8.3MB/s eta 0:00:01\r\u001b[K     |███████████████████████         | 389kB 8.3MB/s eta 0:00:01\r\u001b[K     |███████████████████████▋        | 399kB 8.3MB/s eta 0:00:01\r\u001b[K     |████████████████████████▎       | 409kB 8.3MB/s eta 0:00:01\r\u001b[K     |████████████████████████▉       | 419kB 8.3MB/s eta 0:00:01\r\u001b[K     |█████████████████████████▍      | 430kB 8.3MB/s eta 0:00:01\r\u001b[K     |██████████████████████████      | 440kB 8.3MB/s eta 0:00:01\r\u001b[K     |██████████████████████████▋     | 450kB 8.3MB/s eta 0:00:01\r\u001b[K     |███████████████████████████▎    | 460kB 8.3MB/s eta 0:00:01\r\u001b[K     |███████████████████████████▉    | 471kB 8.3MB/s eta 0:00:01\r\u001b[K     |████████████████████████████▌   | 481kB 8.3MB/s eta 0:00:01\r\u001b[K     |█████████████████████████████   | 491kB 8.3MB/s eta 0:00:01\r\u001b[K     |█████████████████████████████▊  | 501kB 8.3MB/s eta 0:00:01\r\u001b[K     |██████████████████████████████▎ | 512kB 8.3MB/s eta 0:00:01\r\u001b[K     |███████████████████████████████ | 522kB 8.3MB/s eta 0:00:01\r\u001b[K     |███████████████████████████████▌| 532kB 8.3MB/s eta 0:00:01\r\u001b[K     |████████████████████████████████| 542kB 8.3MB/s \n",
            "\u001b[?25hRequirement already satisfied: filelock in /usr/local/lib/python3.6/dist-packages (from transformers==2.6.0) (3.0.12)\n",
            "Requirement already satisfied: numpy in /usr/local/lib/python3.6/dist-packages (from transformers==2.6.0) (1.18.4)\n",
            "Requirement already satisfied: requests in /usr/local/lib/python3.6/dist-packages (from transformers==2.6.0) (2.23.0)\n",
            "Collecting sentencepiece\n",
            "\u001b[?25l  Downloading https://files.pythonhosted.org/packages/3b/88/49e772d686088e1278766ad68a463513642a2a877487decbd691dec02955/sentencepiece-0.1.90-cp36-cp36m-manylinux1_x86_64.whl (1.1MB)\n",
            "\u001b[K     |████████████████████████████████| 1.1MB 22.3MB/s \n",
            "\u001b[?25hCollecting sacremoses\n",
            "\u001b[?25l  Downloading https://files.pythonhosted.org/packages/7d/34/09d19aff26edcc8eb2a01bed8e98f13a1537005d31e95233fd48216eed10/sacremoses-0.0.43.tar.gz (883kB)\n",
            "\u001b[K     |████████████████████████████████| 890kB 43.9MB/s \n",
            "\u001b[?25hCollecting tokenizers==0.5.2\n",
            "\u001b[?25l  Downloading https://files.pythonhosted.org/packages/d1/3f/73c881ea4723e43c1e9acf317cf407fab3a278daab3a69c98dcac511c04f/tokenizers-0.5.2-cp36-cp36m-manylinux1_x86_64.whl (3.7MB)\n",
            "\u001b[K     |████████████████████████████████| 3.7MB 55.2MB/s \n",
            "\u001b[?25hRequirement already satisfied: tqdm>=4.27 in /usr/local/lib/python3.6/dist-packages (from transformers==2.6.0) (4.41.1)\n",
            "Requirement already satisfied: regex!=2019.12.17 in /usr/local/lib/python3.6/dist-packages (from transformers==2.6.0) (2019.12.20)\n",
            "Requirement already satisfied: boto3 in /usr/local/lib/python3.6/dist-packages (from transformers==2.6.0) (1.13.4)\n",
            "Requirement already satisfied: certifi>=2017.4.17 in /usr/local/lib/python3.6/dist-packages (from requests->transformers==2.6.0) (2020.4.5.1)\n",
            "Requirement already satisfied: urllib3!=1.25.0,!=1.25.1,<1.26,>=1.21.1 in /usr/local/lib/python3.6/dist-packages (from requests->transformers==2.6.0) (1.24.3)\n",
            "Requirement already satisfied: idna<3,>=2.5 in /usr/local/lib/python3.6/dist-packages (from requests->transformers==2.6.0) (2.9)\n",
            "Requirement already satisfied: chardet<4,>=3.0.2 in /usr/local/lib/python3.6/dist-packages (from requests->transformers==2.6.0) (3.0.4)\n",
            "Requirement already satisfied: six in /usr/local/lib/python3.6/dist-packages (from sacremoses->transformers==2.6.0) (1.12.0)\n",
            "Requirement already satisfied: click in /usr/local/lib/python3.6/dist-packages (from sacremoses->transformers==2.6.0) (7.1.2)\n",
            "Requirement already satisfied: joblib in /usr/local/lib/python3.6/dist-packages (from sacremoses->transformers==2.6.0) (0.14.1)\n",
            "Requirement already satisfied: botocore<1.17.0,>=1.16.4 in /usr/local/lib/python3.6/dist-packages (from boto3->transformers==2.6.0) (1.16.4)\n",
            "Requirement already satisfied: jmespath<1.0.0,>=0.7.1 in /usr/local/lib/python3.6/dist-packages (from boto3->transformers==2.6.0) (0.9.5)\n",
            "Requirement already satisfied: s3transfer<0.4.0,>=0.3.0 in /usr/local/lib/python3.6/dist-packages (from boto3->transformers==2.6.0) (0.3.3)\n",
            "Requirement already satisfied: python-dateutil<3.0.0,>=2.1 in /usr/local/lib/python3.6/dist-packages (from botocore<1.17.0,>=1.16.4->boto3->transformers==2.6.0) (2.8.1)\n",
            "Requirement already satisfied: docutils<0.16,>=0.10 in /usr/local/lib/python3.6/dist-packages (from botocore<1.17.0,>=1.16.4->boto3->transformers==2.6.0) (0.15.2)\n",
            "Building wheels for collected packages: sacremoses\n",
            "  Building wheel for sacremoses (setup.py) ... \u001b[?25l\u001b[?25hdone\n",
            "  Created wheel for sacremoses: filename=sacremoses-0.0.43-cp36-none-any.whl size=893260 sha256=bc277bad1bbf82c44297c089a5e18aeababfbdfeb45ed862bd44ba22fbba66d0\n",
            "  Stored in directory: /root/.cache/pip/wheels/29/3c/fd/7ce5c3f0666dab31a50123635e6fb5e19ceb42ce38d4e58f45\n",
            "Successfully built sacremoses\n",
            "Installing collected packages: sentencepiece, sacremoses, tokenizers, transformers\n",
            "Successfully installed sacremoses-0.0.43 sentencepiece-0.1.90 tokenizers-0.5.2 transformers-2.6.0\n",
            "Collecting seqeval\n",
            "  Downloading https://files.pythonhosted.org/packages/34/91/068aca8d60ce56dd9ba4506850e876aba5e66a6f2f29aa223224b50df0de/seqeval-0.0.12.tar.gz\n",
            "Requirement already satisfied: numpy>=1.14.0 in /usr/local/lib/python3.6/dist-packages (from seqeval) (1.18.4)\n",
            "Requirement already satisfied: Keras>=2.2.4 in /usr/local/lib/python3.6/dist-packages (from seqeval) (2.3.1)\n",
            "Requirement already satisfied: keras-applications>=1.0.6 in /usr/local/lib/python3.6/dist-packages (from Keras>=2.2.4->seqeval) (1.0.8)\n",
            "Requirement already satisfied: keras-preprocessing>=1.0.5 in /usr/local/lib/python3.6/dist-packages (from Keras>=2.2.4->seqeval) (1.1.0)\n",
            "Requirement already satisfied: pyyaml in /usr/local/lib/python3.6/dist-packages (from Keras>=2.2.4->seqeval) (3.13)\n",
            "Requirement already satisfied: h5py in /usr/local/lib/python3.6/dist-packages (from Keras>=2.2.4->seqeval) (2.10.0)\n",
            "Requirement already satisfied: six>=1.9.0 in /usr/local/lib/python3.6/dist-packages (from Keras>=2.2.4->seqeval) (1.12.0)\n",
            "Requirement already satisfied: scipy>=0.14 in /usr/local/lib/python3.6/dist-packages (from Keras>=2.2.4->seqeval) (1.4.1)\n",
            "Building wheels for collected packages: seqeval\n",
            "  Building wheel for seqeval (setup.py) ... \u001b[?25l\u001b[?25hdone\n",
            "  Created wheel for seqeval: filename=seqeval-0.0.12-cp36-none-any.whl size=7424 sha256=44ff5e19ac3bac6b677f56b7a1872c0ab89c28e962e81ac73fac46631d26c441\n",
            "  Stored in directory: /root/.cache/pip/wheels/4f/32/0a/df3b340a82583566975377d65e724895b3fad101a3fb729f68\n",
            "Successfully built seqeval\n",
            "Installing collected packages: seqeval\n",
            "Successfully installed seqeval-0.0.12\n"
          ],
          "name": "stdout"
        }
      ]
    },
    {
      "cell_type": "code",
      "metadata": {
        "id": "T4bS9315iU4-",
        "colab_type": "code",
        "outputId": "5fa44e5f-441d-4e4a-9de2-a4c57657c034",
        "colab": {
          "base_uri": "https://localhost:8080/",
          "height": 122
        }
      },
      "source": [
        "from google.colab import drive\n",
        "drive.mount('/content/drive')"
      ],
      "execution_count": 0,
      "outputs": [
        {
          "output_type": "stream",
          "text": [
            "Go to this URL in a browser: https://accounts.google.com/o/oauth2/auth?client_id=947318989803-6bn6qk8qdgf4n4g3pfee6491hc0brc4i.apps.googleusercontent.com&redirect_uri=urn%3aietf%3awg%3aoauth%3a2.0%3aoob&response_type=code&scope=email%20https%3a%2f%2fwww.googleapis.com%2fauth%2fdocs.test%20https%3a%2f%2fwww.googleapis.com%2fauth%2fdrive%20https%3a%2f%2fwww.googleapis.com%2fauth%2fdrive.photos.readonly%20https%3a%2f%2fwww.googleapis.com%2fauth%2fpeopleapi.readonly\n",
            "\n",
            "Enter your authorization code:\n",
            "··········\n",
            "Mounted at /content/drive\n"
          ],
          "name": "stdout"
        }
      ]
    },
    {
      "cell_type": "code",
      "metadata": {
        "id": "5cZBjDEhjBp4",
        "colab_type": "code",
        "outputId": "743e8bce-e232-472d-943e-4a0d8590259b",
        "colab": {
          "base_uri": "https://localhost:8080/",
          "height": 105
        }
      },
      "source": [
        "from seqeval.metrics import f1_score\n",
        "\n",
        "import matplotlib.pyplot as plt\n",
        "%matplotlib inline\n",
        "\n",
        "from sklearn.metrics import classification_report\n",
        "\n",
        "\n",
        "import seaborn as sns\n",
        "\n",
        "import itertools\n",
        "import re\n",
        "\n",
        "import pandas as pd\n",
        "import numpy as np\n",
        "from tqdm import tqdm, trange\n",
        "\n",
        "import torch\n",
        "from torch.utils.data import TensorDataset, DataLoader, RandomSampler, SequentialSampler\n",
        "from transformers import BertTokenizer, BertConfig\n",
        "\n",
        "from keras.preprocessing.sequence import pad_sequences\n",
        "from sklearn.model_selection import train_test_split\n",
        "\n",
        "torch.__version__\n",
        "\n",
        "import transformers\n",
        "from transformers import BertForTokenClassification, AdamW\n",
        "from transformers import get_linear_schedule_with_warmup\n",
        "\n",
        "transformers.__version__\n",
        "\n",
        "\n",
        "MAX_LEN = 75\n",
        "bs = 32\n",
        "\n",
        "device = torch.device(\"cuda\" if torch.cuda.is_available() else \"cpu\")\n",
        "n_gpu = torch.cuda.device_count()\n",
        "\n",
        "torch.cuda.get_device_name(0) \n",
        "\n"
      ],
      "execution_count": 0,
      "outputs": [
        {
          "output_type": "stream",
          "text": [
            "/usr/local/lib/python3.6/dist-packages/statsmodels/tools/_testing.py:19: FutureWarning: pandas.util.testing is deprecated. Use the functions in the public API at pandas.testing instead.\n",
            "  import pandas.util.testing as tm\n",
            "Using TensorFlow backend.\n"
          ],
          "name": "stderr"
        },
        {
          "output_type": "execute_result",
          "data": {
            "text/plain": [
              "'Tesla P100-PCIE-16GB'"
            ]
          },
          "metadata": {
            "tags": []
          },
          "execution_count": 2
        }
      ]
    },
    {
      "cell_type": "markdown",
      "metadata": {
        "id": "4It7G_1DxaHe",
        "colab_type": "text"
      },
      "source": [
        "## Utility Functions"
      ]
    },
    {
      "cell_type": "code",
      "metadata": {
        "id": "M0Agz90jn-Dw",
        "colab_type": "code",
        "colab": {}
      },
      "source": [
        "\n",
        "def transform_label(l): \n",
        "    return re.sub(r'^([BI]).*',r'\\1-FOOD',l)\n",
        "    \n",
        "\n",
        "def get_label(l):\n",
        "  return l"
      ],
      "execution_count": 0,
      "outputs": []
    },
    {
      "cell_type": "code",
      "metadata": {
        "id": "AspAIcmkm4jQ",
        "colab_type": "code",
        "colab": {}
      },
      "source": [
        "\n",
        "\n",
        "class SentenceGetter(object):\n",
        "    \n",
        "    def __init__(self, data, column, label_adapter=get_label):\n",
        "        self.n_sent = 1\n",
        "        self.data = data\n",
        "        self.empty = False\n",
        "\n",
        "        self.grouped=[]\n",
        "        sentence=[]\n",
        "        for key,value in zip(data[column].keys(), data[column].values):\n",
        "          \n",
        "          sentence.append((key,label_adapter(value)))\n",
        "          if key is '.':\n",
        "            self.grouped.append(sentence)\n",
        "            sentence=[]\n",
        "        \n",
        "        self.sentences = [s for s in self.grouped]\n",
        "    \n",
        "    def get_next(self):\n",
        "        try:\n",
        "            s = self.grouped[\"Sentence: {}\".format(self.n_sent)]\n",
        "            self.n_sent += 1\n",
        "            return s\n",
        "        except:\n",
        "            return None"
      ],
      "execution_count": 0,
      "outputs": []
    },
    {
      "cell_type": "code",
      "metadata": {
        "id": "GTQBJGDnlJIp",
        "colab_type": "code",
        "colab": {}
      },
      "source": [
        "\n",
        "\n",
        "def get_label_indices(train_data, test_data, label_adapter):\n",
        "  all_labels=[label_adapter(l) for l in itertools.chain(train_data[train_header].values, test_data[test_header].values)]\n",
        "  tag_values = list(set([label_adapter(l) for l in all_labels]))\n",
        "  tag_values.append(\"PAD\")\n",
        "  tag2idx = {t: i for i, t in enumerate(tag_values)}\n",
        "  return tag_values, tag2idx"
      ],
      "execution_count": 0,
      "outputs": []
    },
    {
      "cell_type": "code",
      "metadata": {
        "id": "0G3pl-7tobfi",
        "colab_type": "code",
        "colab": {}
      },
      "source": [
        "def process_bio(data, column, label_adapter):\n",
        "  getter = SentenceGetter(data, column, label_adapter)\n",
        "\n",
        "  sentences = [[word[0] for word in sentence] for sentence in getter.sentences]\n",
        "\n",
        "\n",
        "  tag_values = list(set([label_adapter(l) for l in data[column].values]))\n",
        "  tag_values.append(\"PAD\")\n",
        "  tag2idx = {t: i for i, t in enumerate(tag_values)}\n",
        "\n",
        "  labels = [[s[1] for s in sentence] for sentence in getter.sentences]\n",
        "\n",
        "  return getter, sentences, tag_values, tag2idx, labels"
      ],
      "execution_count": 0,
      "outputs": []
    },
    {
      "cell_type": "code",
      "metadata": {
        "id": "8kxyLMrImdnt",
        "colab_type": "code",
        "colab": {}
      },
      "source": [
        "def tokenize_and_preserve_labels(sentence, text_labels):\n",
        "    tokenized_sentence = []\n",
        "    labels = []\n",
        "\n",
        "    for word, label in zip(sentence, text_labels):\n",
        "\n",
        "        # Tokenize the word and count # of subwords the word is broken into\n",
        "        tokenized_word = tokenizer.tokenize(word)\n",
        "        n_subwords = len(tokenized_word)\n",
        "\n",
        "        # Add the tokenized word to the final tokenized word list\n",
        "        tokenized_sentence.extend(tokenized_word)\n",
        "\n",
        "        # Add the same label to the new list of labels `n_subwords` times\n",
        "        labels.extend([label] * n_subwords)\n",
        "\n",
        "    return tokenized_sentence, labels\n"
      ],
      "execution_count": 0,
      "outputs": []
    },
    {
      "cell_type": "code",
      "metadata": {
        "id": "sk7ayoaKtnUj",
        "colab_type": "code",
        "colab": {}
      },
      "source": [
        "\n",
        "\n",
        "def flat_accuracy(preds, labels):\n",
        "    pred_flat = np.argmax(preds, axis=2).flatten()\n",
        "    labels_flat = labels.flatten()\n",
        "    return np.sum(pred_flat == labels_flat) / len(labels_flat)\n"
      ],
      "execution_count": 0,
      "outputs": []
    },
    {
      "cell_type": "markdown",
      "metadata": {
        "id": "2_Ce212Fx_Nk",
        "colab_type": "text"
      },
      "source": [
        "##Initializing torch"
      ]
    },
    {
      "cell_type": "code",
      "metadata": {
        "id": "gitASXScmbuB",
        "colab_type": "code",
        "outputId": "b2fc25ba-0b26-48d3-f7eb-5a92c02c4e1b",
        "colab": {
          "base_uri": "https://localhost:8080/",
          "height": 66,
          "referenced_widgets": [
            "b8f007606d2b456880287334c85c4651",
            "def774c2b02044a0a36e7002cb61b6ff",
            "fe8d1a6074ea420c97627285d7a19993",
            "535ee9477c064f6ba4ec030aa3e0004b",
            "1d59b83436ae4fed822b27ae34c37990",
            "a7f5dbbd06904b558c33b6ab99d2bebf",
            "23dda5af8b1d49e5a05f2583ac644a72",
            "29cb759d1ef3441ea3a915982b30000e"
          ]
        }
      },
      "source": [
        "tokenizer = BertTokenizer.from_pretrained('bert-base-cased', do_lower_case=False)\n"
      ],
      "execution_count": 0,
      "outputs": [
        {
          "output_type": "display_data",
          "data": {
            "application/vnd.jupyter.widget-view+json": {
              "model_id": "b8f007606d2b456880287334c85c4651",
              "version_minor": 0,
              "version_major": 2
            },
            "text/plain": [
              "HBox(children=(FloatProgress(value=0.0, description='Downloading', max=213450.0, style=ProgressStyle(descripti…"
            ]
          },
          "metadata": {
            "tags": []
          }
        },
        {
          "output_type": "stream",
          "text": [
            "\n"
          ],
          "name": "stdout"
        }
      ]
    },
    {
      "cell_type": "code",
      "metadata": {
        "id": "L1RvULO0Uvzb",
        "colab_type": "code",
        "colab": {}
      },
      "source": [
        "\n",
        "ds_tag_values = {\n",
        "    'food-classification': ['B-FOOD', 'I-FOOD', 'O', 'PAD'],\n",
        "    \"hansard-closest\": ['B-AG.01.h.01.f', 'I-AG.01.f', 'B-AG.01.h.02.d', 'B-AF.02.a', 'B-AG.01.ae.03', 'I-AG.01.z',\n",
        "                        'I-AG.01.n.12', 'I-AG.01.n.15', 'I-AG.01.m', 'B-AG.01.f', 'I-AG.01.n.02', 'I-AG.01.ad',\n",
        "                        'B-AG.01.n.02', 'I-AF.10.i', 'I-AG.01.d.02', 'B-AG.01.d.03', 'B-AF.20.h', 'I-AG.01.t.07',\n",
        "                        'I-AG.01.t.08', 'I-AG.01.d.05', 'B-AG.01.ad', 'B-AF.10.i', 'I-AG.01.h.02.e', 'I-AG.01.h.01',\n",
        "                        'B-AG.01.l.04', 'B-AG.01.t.08', 'B-AG.01.j', 'I-AG.01.h.02.i', 'B-AG.01.ae.01',\n",
        "                        'I-AG.01.h.02.b', 'B-AG.01', 'B-AG.01.h.02.c', 'I-AG.01.n.06', 'I-AG.01.k', 'I-AG.01.n',\n",
        "                        'B-AG.01.y.01.b', 'I-AG.01.p', 'B-AG.01.l.03', 'I-AG.01.d.06', 'I-AG.01.n.14', 'I-AG.01.d.07',\n",
        "                        'B-AG.01.d.06', 'B-AF.20.e', 'I-AG.01.l.04', 'B-AF.12', 'I-AG.01.l', 'I-AG.01.l.01',\n",
        "                        'B-AG.01.h.01.c', 'I-AG.01.y.01.g', 'I-AG.01.h.02.f', 'B-AF.20.c', 'I-AG.01.ae.03',\n",
        "                        'I-AG.01.n.11', 'B-AG.01.h.01.d', 'B-AG.01.l.02', 'I-AG.01.e.01', 'B-AG.01.k', 'I-AG.01.n.09',\n",
        "                        'I-AG.01.ae.01', 'B-AE.10', 'B-AG.01.o', 'I-AG.01.h.02.c', 'B-AF.13', 'B-AG.01.h.01.b',\n",
        "                        'B-AG.01.h.02.f', 'I-AG.01.h.02.h', 'I-AG.01.n.04', 'I-AG.01.ab', 'I-AG.01.ag', 'B-AG.01.t.07',\n",
        "                        'B-AG.01.n.17.a', 'I-AG.01.e.02', 'I-AG.01.h.01.b', 'B-AG.01.h', 'B-AG.01.n.12', 'B-AG.01.l.01',\n",
        "                        'B-AG.01.y.01.g', 'B-AG.01.n.03', 'I-AG.01.l.02', 'I-AG.01.j', 'I-AG.01.n.17.a',\n",
        "                        'B-AG.01.h.02.a', 'B-AG.01.n.04', 'B-AG.01.m', 'B-AG.01.h.02.h', 'I-AG.01.y.01.a', 'B-AG.01.ac',\n",
        "                        'B-AG.01.n.13', 'B-AF.28', 'B-AG.01.g', 'B-AG.01.n.01', 'B-AE.08.i', 'B-AG.01.h.02.b',\n",
        "                        'B-AG.01.ab', 'I-AG.01.h.02.a', 'I-AG.01.g', 'I-AG.01.h.01.a', 'I-AG.01.n.01', 'B-AG.01.h.02.i',\n",
        "                        'I-AF.02.a', 'I-AG.01.h', 'B-AE.13.h.01', 'B-AG.01.h.02.g', 'I-AG.01.ac', 'I-AG.01.h.01.e',\n",
        "                        'I-AG.01.n.13', 'B-AG.01.e', 'I-AG.01.h.01.c', 'B-AG.01.d.07', 'B-AG.01.n.09', 'I-AG.01.n.03',\n",
        "                        'B-AE.10.g', 'I-AG.01.d.03', 'B-AG.01.h.01.e', 'B-AG.01.h.01', 'B-AG.01.y.01.f', 'B-AG.01.n.06',\n",
        "                        'O', 'I-AF.20.g', 'B-AG.01.y.01', 'B-AG.01.n.11', 'I-AG.01.h.01.f', 'I-AG.01.y.01', 'B-AG.01.l',\n",
        "                        'B-AG.01.n.05', 'B-AG.01.y.01.a', 'B-AG.01.h.01.a', 'B-AG.01.e.01', 'B-AG.01.i', 'B-AG.01.n.14',\n",
        "                        'I-AG.01.h.02', 'B-AG.01.h.02.e', 'B-AG.01.n.15', 'B-AG.01.d.02', 'I-AG.01.n.05', 'I-AG.01.e',\n",
        "                        'B-AF.20.g', 'I-AG.01.h.02.g', 'B-AG.01.h.02', 'I-AG.01', 'B-AG.01.p', 'I-AG.01.y.01.c',\n",
        "                        'B-AG.01.n.16', 'I-AG.01.t.05', 'I-AG.01.l.03', 'B-AG.01.y.01.c', 'B-AG.01.t.05', 'B-AG.01.z',\n",
        "                        'B-AG.01.n', 'B-AG.01.e.02', 'B-AG.01.d.05', 'I-AG.01.i', 'B-AG.01.ag', 'I-AG.01.o', 'PAD'],\n",
        "    \"hansard-parent\": ['B-AG.01.r', 'I-AF.12', 'I-AG.01.f', 'B-AE.11', 'I-AG.01.z', 'I-AG.01.d', 'I-AG.01.m',\n",
        "                       'B-AG.01.f', 'B-AE.13', 'I-AG.01.ad', 'B-AG.01.y', 'I-AG.01.y', 'B-AG.01.a', 'B-AG.01.ad',\n",
        "                       'B-AF.23', 'B-AG.01.ae', 'B-AE.07', 'B-AG.01.j', 'B-AF.02', 'I-AF.13', 'B-AG.01.ah', 'B-AG.01',\n",
        "                       'I-AG.01.k', 'I-AG.01.ah', 'I-AG.01.n', 'B-AE.14', 'B-AF.10', 'B-AF.12', 'I-AF.26', 'I-AG.01.l',\n",
        "                       'B-AG.01.aa', 'B-AG.01.k', 'B-AE.10', 'B-AG.01.o', 'B-AF.13', 'B-AG.01.aj', 'B-AG.01.t',\n",
        "                       'I-AG.01.ab', 'I-AG.01.ag', 'B-AG.01.af', 'I-AF.11', 'B-AF.29', 'B-AG.01.h', 'I-AG.01.j',\n",
        "                       'I-AF.02', 'B-AG.01.m', 'B-AG.01.ac', 'I-AF.23', 'I-AE.08', 'B-AF.28', 'B-AG.01.g', 'B-AF.19',\n",
        "                       'B-AF.11', 'B-AG.01.ab', 'I-AF.19', 'B-AG.01.d', 'I-AG.01.g', 'I-AG.01.h', 'B-AG.01.b',\n",
        "                       'I-AG.01.ac', 'B-AG.01.e', 'I-AF.24', 'I-AG.01.a', 'I-AE.14', 'O', 'I-AG.01.ae', 'B-AG.01.l',\n",
        "                       'I-AAG.01.m', 'B-AF.20', 'B-AAG.01.m', 'I-AF.28', 'B-AG.01.i', 'I-AE.13', 'I-AF.29', 'I-AG.01.t',\n",
        "                       'I-AG.01.e', 'B-AF.26', 'I-AG.01', 'I-AG.01.aa', 'I-AE.11', 'I-AG.01.aj', 'I-AF.10', 'I-AG.01.r',\n",
        "                       'I-AG.01.af', 'I-AF.20', 'B-AG.01.n', 'B-AG.01.z', 'B-AF.24', 'I-AG.01.i', 'B-AG.01.ak',\n",
        "                       'B-AE.08', 'B-AG.01.ag', 'I-AG.01.o', 'PAD'],\n",
        "    \"foodon\": ['I-FOODON_03309457', 'I-FOODON_03306867', 'B-FOODON_03316284', 'I-FOODON_03301585', 'I-FOODON_03304042',\n",
        "               'B-NCBITaxon_381124', 'I-NCBITaxon_4615', 'I-NCBITaxon_89151', 'B-FOODON_03301126', 'I-FOODON_03301441',\n",
        "               'B-FOODON_03309554', 'I-FOODON_03305086', 'B-FOODON_03302775', 'B-FOODON_03411044', 'B-FOODON_03301630',\n",
        "               'B-NCBITaxon_9031', 'B-FOODON_03303508', 'I-UBERON_0001913', 'I-NCBITaxon_51238', 'B-FOODON_03306347',\n",
        "               'B-FOODON_03420108', 'B-NCBITaxon_29780', 'I-NCBITaxon_4006', 'B-FOODON_03302946', 'I-FOODON_03309462',\n",
        "               'B-NCBITaxon_80379', 'I-NCBITaxon_4113', 'B-FOODON_03430137', 'I-FOODON_03315647', 'B-FOODON_03301128',\n",
        "               'B-FOODON_03315498', 'B-FOODON_03305639', 'B-FOODON_03315025', 'I-FOODON_03315258', 'I-FOODON_03310086',\n",
        "               'B-FOODON_03301844', 'B-NCBITaxon_13450', 'I-NCBITaxon_3747', 'B-FOODON_03315647', 'I-FOODON_03310689',\n",
        "               'I-hancestro_0383', 'I-FOODON_03301605', 'B-FOODON_03315597', 'B-FOODON_03309491', 'I-NCBITaxon_4329',\n",
        "               'I-FOODON_03301710', 'B-NCBITaxon_4006', 'B-FOODON_03411269', 'I-FOODON_03302897', 'B-FOODON_03306867',\n",
        "               'B-FOODON_03307062', 'B-NCBITaxon_3755', 'I-NCBITaxon_3755', 'B-FOODON_03315872', 'B-CHEBI_83163',\n",
        "               'B-FOODON_03309457', 'B-FOODON_03303886', 'B-FOODON_03301710', 'B-ancestro_0354', 'I-FOODON_03305417',\n",
        "               'B-FOODON_03310795', 'I-FOODON_03430168', 'B-FOODON_03301455', 'B-FOODON_03302904', 'I-FOODON_03306766',\n",
        "               'B-FOODON_03304564', 'B-FOODON_03317068', 'B-FOODON_03301217', 'I-FOODON_03301217', 'B-FOODON_03316070',\n",
        "               'I-FOODON_03309832', 'B-FOODON_03301329', 'B-FOODON_03301105', 'I-FOODON_03315872', 'B-FOODON_03301705',\n",
        "               'B-FOODON_03304010', 'B-FOODON_03305263', 'B-FOODON_03305680', 'B-FOODON_03310185', 'B-GAZ_00000558',\n",
        "               'B-FOODON_03310290', 'I-FOODON_03305954', 'B-FOODON_03305518', 'I-NCBITaxon_4039', 'B-UBERON_0036016',\n",
        "               'I-FOODON_03311146', 'B-NCBITaxon_4615', 'I-FOODON_03302908', 'I-FOODON_03302515', 'I-FOODON_03301889',\n",
        "               'I-FOODON_03306160', 'I-FOODON_03310351', 'B-FOODON_03301842', 'B-FOODON_03301672', 'I-NCBITaxon_4565',\n",
        "               'I-PO_0009001', 'B-FOODON_03315188', 'I-FOODON_03301329', 'B-PATO_0000386', 'B-NCBITaxon_94328',\n",
        "               'B-FOODON_03302772', 'B-FOODON_03315835', 'B-FOODON_03305954', 'B-FOODON_03301660', 'B-FOODON_03303578',\n",
        "               'B-NCBITaxon_4081', 'B-NCBITaxon_37656', 'I-FOODON_03316347', 'B-FOODON_03301441', 'I-FOODON_03301304',\n",
        "               'B-FOODON_03317034', 'B-FOODON_03315258', 'B-FOODON_03305236', 'B-FOODON_03301614', 'B-NCBITaxon_32201',\n",
        "               'I-FOODON_03301505', 'B-NCBITaxon_16718', 'I-FOODON_03301051', 'B-FOODON_03305617', 'B-FOODON_03301304',\n",
        "               'B-UBERON_0001913', 'B-NCBITaxon_4530', 'I-FOODON_03411335', 'I-FOODON_03301455', 'I-ancestro_0354',\n",
        "               'B-FOODON_03315259', 'I-PATO_0000386', 'B-NCBITaxon_23211', 'I-FOODON_03315597', 'I-FOODON_03301008',\n",
        "               'I-FOODON_03302062', 'I-FOODON_03302946', 'B-FOODON_03301175', 'B-FOODON_03302060', 'I-GAZ_00000558',\n",
        "               'I-NCBITaxon_59895', 'B-FOODON_03307808', 'I-FOODON_03301660', 'B-NCBITaxon_3493', 'B-FOODON_03305417',\n",
        "               'I-FOODON_03305680', 'I-CHEBI_60004', 'I-FOODON_03530021', 'I-FOODON_03305428', 'B-NCBITaxon_3562',\n",
        "               'I-FOODON_03411669', 'B-FOODON_03316042', 'B-FOODON_03307280', 'I-FOODON_03420108', 'I-NCBITaxon_3827',\n",
        "               'I-FOODON_03302060', 'B-FOODON_03305003', 'I-NCBITaxon_4530', 'I-FOODON_03301116', 'B-CHEBI_60004',\n",
        "               'I-FOODON_03301672', 'B-FOODON_03301619', 'I-NCBITaxon_80379', 'I-FOODON_03302904', 'B-FOODON_03315146',\n",
        "               'I-FOODON_03301705', 'B-FOODON_03305428', 'I-FOODON_03302034', 'B-FOODON_03302034', 'B-FOODON_03302515',\n",
        "               'I-FOODON_03301072', 'B-CHEBI_24866', 'I-NCBITaxon_3562', 'I-FOODON_03301701', 'B-FOODON_03301051',\n",
        "               'I-FOODON_03303578', 'B-FOODON_03301505', 'I-FOODON_03305617', 'I-FOODON_03307062', 'B-NCBITaxon_89151',\n",
        "               'I-NCBITaxon_37656', 'B-NCBITaxon_4071', 'I-ENVO_01001125', 'B-FOODON_03302908', 'B-FOODON_03306160',\n",
        "               'B-FOODON_03304042', 'B-FOODON_03317294', 'I-FOODON_03315498', 'B-FOODON_03310760', 'B-NCBITaxon_51238',\n",
        "               'B-NCBITaxon_59895', 'B-FOODON_03311146', 'B-FOODON_03301605', 'B-FOODON_03301008', 'I-FOODON_03304010',\n",
        "               'B-NCBITaxon_39352', 'I-FOODON_03411044', 'I-FOODON_03307668', 'I-NCBITaxon_381124', 'I-NCBITaxon_34199',\n",
        "               'I-FOODON_03304564', 'B-FOODON_03411328', 'B-NCBITaxon_3747', 'B-FOODON_03301889', 'I-FOODON_03411328',\n",
        "               'I-NCBITaxon_3760', 'B-FOODON_03310387', 'B-FOODON_03303659', 'B-FOODON_03530021', 'I-FOODON_03315272',\n",
        "               'I-FOODON_03301844', 'B-NCBITaxon_3649', 'B-FOODON_03310086', 'B-FOODON_03411237', 'B-FOODON_03307240',\n",
        "               'B-NCBITaxon_117781', 'I-CHEBI_24866', 'B-FOODON_03411335', 'I-FOODON_03303886', 'B-FOODON_03306766',\n",
        "               'B-FOODON_03303225', 'I-FOODON_03307280', 'B-FOODON_03302897', 'O', 'B-FOODON_03302062',\n",
        "               'B-NCBITaxon_34199', 'B-NCBITaxon_3760', 'I-FOODON_03303380', 'B-FOODON_03430168', 'B-CHEBI_33290',\n",
        "               'B-FOODON_03301072', 'I-NCBITaxon_3888', 'B-ENVO_00002006', 'B-NCBITaxon_3888', 'I-FOODON_03316042',\n",
        "               'B-NCBITaxon_4565', 'B-FOODON_00001287', 'I-FOODON_03305263', 'I-FOODON_03317068', 'B-NCBITaxon_63459',\n",
        "               'I-FOODON_03310795', 'I-FOODON_00001287', 'I-FOODON_03317294', 'B-FOODON_03301397', 'I-FOODON_03420157',\n",
        "               'B-FOODON_03301802', 'B-FOODON_03316347', 'I-NCBITaxon_4081', 'I-FOODON_03303508', 'B-FOODON_03315272',\n",
        "               'I-FOODON_03301614', 'B-FOODON_03301240', 'I-FOODON_03305003', 'B-FOODON_03411669', 'B-FOODON_03301585',\n",
        "               'B-FOODON_03310272', 'B-FOODON_03309462', 'B-FOODON_03304704', 'I-FOODON_03301842', 'B-FOODON_03302835',\n",
        "               'B-ENVO_01001125', 'B-FOODON_03305086', 'I-FOODON_03309554', 'I-FOODON_03310387', 'B-FOODON_03302458',\n",
        "               'I-FOODON_03302772', 'I-FOODON_03315835', 'B-NCBITaxon_4682', 'I-FOODON_03303659', 'I-FOODON_03301128',\n",
        "               'B-FOODON_03412974', 'I-FOODON_03310272', 'B-FOODON_03303380', 'B-FOODON_03307663', 'I-NCBITaxon_4682',\n",
        "               'B-FOODON_03309832', 'B-FOODON_03301189', 'B-PO_0009001', 'B-FOODON_03310351', 'B-NCBITaxon_39350',\n",
        "               'I-FOODON_03302458', 'B-NCBITaxon_49992', 'B-UBERON_0007378', 'I-UBERON_0007378', 'B-FOODON_03301701',\n",
        "               'B-FOODON_03310689', 'I-FOODON_03302835', 'I-ENVO_00002006', 'B-hancestro_0383', 'B-FOODON_03307668',\n",
        "               'B-FOODON_03301116', 'I-NCBITaxon_9031', 'I-FOODON_03430137', 'B-FOODON_03301440', 'B-FOODON_03420157',\n",
        "               'I-FOODON_03315188', 'I-NCBITaxon_4071', 'B-NCBITaxon_4039', 'B-NCBITaxon_6563', 'B-NCBITaxon_4113',\n",
        "               'B-NCBITaxon_3827', 'I-FOODON_03307240', 'B-NCBITaxon_4329', 'I-FOODON_03303225', 'B-FOODON_03306616',\n",
        "               'PAD'],\n",
        "    \"snomedct\": ['B-443701000124100', 'B-226719003', 'B-227215000', 'B-735050002', 'B-391858005', 'B-67324005',\n",
        "                 'B-229862008', 'B-16313001', 'I-70813002', 'B-226942002', 'I-227553009', 'I-412061001', 'B-226890008',\n",
        "                 'I-256326004', 'B-736159005', 'B-226888007', 'I-226831005', 'B-227444000', 'B-230053007', 'B-28647000',\n",
        "                 'B-442341000124109', 'B-227411006', 'I-256307007', 'B-735030001', 'I-226647005', 'B-22836000',\n",
        "                 'I-226543002', 'B-256307007', 'B-227430006', 'I-713648000', 'I-255621006', 'I-227436000',\n",
        "                 'B-420823005', 'B-713648000', 'B-102261002', 'I-227501001', 'B-226483007', 'I-735053000',\n",
        "                 'B-608772009', 'I-227020009', 'B-256313003', 'B-129559002', 'I-256313003', 'B-444001000124100',\n",
        "                 'B-227282006', 'I-412070003', 'B-229937009', 'I-227545001', 'B-226733003', 'B-230055000',\n",
        "                 'I-226551004', 'B-226054000', 'I-256442007', 'I-28647000', 'I-412357001', 'B-227219006', 'B-735108004',\n",
        "                 'B-412061001', 'B-735213008', 'B-226814003', 'B-328685004', 'I-444021000124105', 'B-226723006',\n",
        "                 'I-901000161107', 'I-230055000', 'B-229948002', 'B-227449005', 'B-51905005', 'B-226787009',\n",
        "                 'I-22836000', 'B-227020009', 'B-734881000', 'B-412357001', 'B-442681000124105', 'B-226031009',\n",
        "                 'B-412071004', 'I-226837009', 'I-442681000124105', 'B-63766005', 'I-227215000', 'B-735336002',\n",
        "                 'B-227260004', 'I-102261002', 'I-227260004', 'I-734881000', 'I-226814003', 'B-735245003',\n",
        "                 'B-256329006', 'I-735030001', 'I-227219006', 'I-391858005', 'B-226725004', 'B-23182003', 'B-226551004',\n",
        "                 'I-226054000', 'I-226888007', 'B-226726003', 'B-735211005', 'I-443981000124106', 'I-735211005',\n",
        "                 'I-735214002', 'B-227519005', 'I-735248001', 'I-226890008', 'B-227722009', 'B-735047000',\n",
        "                 'I-227592002', 'B-227436000', 'I-229944000', 'B-226604005', 'B-226955001', 'I-102264005',\n",
        "                 'I-226802006', 'B-256326004', 'B-227423000', 'I-226496008', 'B-227365007', 'B-229887001', 'B-89707004',\n",
        "                 'B-901000161107', 'B-227425007', 'I-735340006', 'B-13577000', 'B-227757007', 'B-735340006',\n",
        "                 'I-412071004', 'I-412066006', 'B-226749001', 'B-227410007', 'B-442891000124107', 'B-256442007',\n",
        "                 'I-226493000', 'B-735040003', 'I-89707004', 'B-226559002', 'B-72511004', 'I-735047000', 'I-230053007',\n",
        "                 'B-419420009', 'I-63766005', 'I-227388008', 'I-226928005', 'B-278840001', 'B-29263009', 'B-226740002',\n",
        "                 'B-226493000', 'I-442341000124109', 'I-9424004', 'B-227463004', 'B-226064009', 'B-227549007',\n",
        "                 'I-328685004', 'I-444001000124100', 'B-226802006', 'I-256443002', 'B-226831005', 'B-226587006',\n",
        "                 'B-735123009', 'B-735214002', 'B-227566009', 'B-226928005', 'I-227757007', 'B-442751000124107',\n",
        "                 'B-226639005', 'B-227592002', 'B-227400003', 'B-41834005', 'I-226934003', 'B-444021000124105',\n",
        "                 'B-735010000', 'I-227607007', 'B-260184002', 'B-226916002', 'B-102264005', 'I-227722009',\n",
        "                 'B-735009005', 'B-226934003', 'B-226901000', 'I-226853007', 'I-227430006', 'B-227545001',\n",
        "                 'B-608773004', 'B-735215001', 'B-226562004', 'B-226849005', 'B-256443002', 'B-227239005',\n",
        "                 'B-227612008', 'I-226726003', 'B-227553009', 'I-443701000124100', 'I-229862008', 'B-735042006',\n",
        "                 'B-735053000', 'I-226838004', 'I-227449005', 'I-735215001', 'I-735245003', 'B-735212003',\n",
        "                 'I-229937009', 'B-226038003', 'I-256354006', 'I-736159005', 'I-226942002', 'B-226704004',\n",
        "                 'I-227395004', 'B-227390009', 'I-226855000', 'B-9424004', 'I-226849005', 'B-443691000124100',\n",
        "                 'I-227612008', 'B-735249009', 'B-443981000124106', 'O', 'B-229944000', 'I-227282006', 'B-35748005',\n",
        "                 'I-256350002', 'B-227418000', 'I-129559002', 'I-226955001', 'B-227689008', 'I-226559002',\n",
        "                 'B-227407000', 'B-227388008', 'B-256354006', 'I-41834005', 'I-443691000124100', 'B-227382009',\n",
        "                 'B-442861000124104', 'B-226769006', 'B-226838004', 'I-227519005', 'B-735048005', 'B-226735005',\n",
        "                 'I-226916002', 'I-226787009', 'B-226041007', 'I-260184002', 'B-735248001', 'B-227515004',\n",
        "                 'B-229908005', 'B-227421003', 'I-16313001', 'B-226753004', 'B-227408005', 'B-226855000', 'B-226018004',\n",
        "                 'B-256350002', 'I-35748005', 'I-226639005', 'B-444161000124100', 'B-226496008', 'I-29263009',\n",
        "                 'B-442361000124108', 'B-227606003', 'B-70813002', 'B-226528004', 'I-735045008', 'B-227218003',\n",
        "                 'I-735049002', 'B-227607007', 'I-226041007', 'I-102262009', 'I-442361000124108', 'B-226543002',\n",
        "                 'B-53410008', 'B-255621006', 'I-226749001', 'I-735042006', 'B-735049002', 'B-227413009', 'B-226863004',\n",
        "                 'I-256329006', 'B-412062008', 'I-226753004', 'B-227501001', 'B-735106000', 'B-227395004',\n",
        "                 'B-226853007', 'I-226038003', 'B-256317002', 'B-226647005', 'B-735045008', 'B-442811000124102',\n",
        "                 'B-412070003', 'B-226837009', 'B-442581000124106', 'B-736031006', 'B-102262009', 'B-227598003',\n",
        "                 'B-412066006', 'B-226057007', 'PAD']\n",
        "}"
      ],
      "execution_count": 0,
      "outputs": []
    },
    {
      "cell_type": "markdown",
      "metadata": {
        "id": "UFJQTVttXMGi",
        "colab_type": "text"
      },
      "source": [
        "## Parameters"
      ]
    },
    {
      "cell_type": "code",
      "metadata": {
        "id": "ucbj26cEt56x",
        "colab_type": "code",
        "outputId": "d1e6a32b-962d-4939-ac38-7d9bf6d79e14",
        "colab": {
          "base_uri": "https://localhost:8080/",
          "height": 1000
        }
      },
      "source": [
        "datasets={\n",
        "  # 'food-classification':'f',\n",
        "  'hansard-parent': 'p',\n",
        "  'hansard-closest':'hansard-closest',\n",
        "  'foodon': 'foodon',\n",
        "  'snomedct': 'snomedct'\n",
        "  #'longest-common-tag-part':'L',\n",
        "  # 'shortest-tag':'s', \n",
        "}\n",
        "\n",
        "stored_models ={\n",
        "  # 'bert':'bert-base-cased', \n",
        "  # 'bioBert-standard': '/content/drive/My Drive/Colab Notebooks/data/biobert',\n",
        "  'bioBert-large': '/content/drive/My Drive/Colab Notebooks/data/biobert_large'\n",
        "}\n",
        "\n",
        "model_tags = {}\n",
        "\n",
        "\n",
        "train_header='tag'\n",
        "test_header='-DOCSTART-'\n",
        "label_adapter = get_label\n",
        "\n",
        "\n",
        "epochs = 10\n",
        "max_grad_norm = 1.0\n",
        "\n",
        "FULL_FINETUNING = True\n",
        "\n",
        "\n",
        "for version_descriptive,model_version in datasets.items(): \n",
        "  print()\n",
        "\n",
        "\n",
        "  train_path = '/content/drive/My Drive/Colab Notebooks/data/train-'+model_version+'.txt'\n",
        "\n",
        "  test_path='/content/drive/My Drive/Colab Notebooks/data/test-'+model_version+'.txt'\n",
        "\n",
        "\n",
        "\n",
        "\n",
        "  # initialize data\n",
        "  data = pd.read_csv(train_path, encoding=\"latin1\", delimiter='\\t').fillna(method=\"ffill\")\n",
        "  test_data = pd.read_csv(test_path, encoding=\"latin1\", delimiter='\\t').fillna(method=\"ffill\")\n",
        "\n",
        "  getter, sentences, tag_values, tag2idx, labels = process_bio(data, train_header, label_adapter)\n",
        "\n",
        "  if ds_tag_values.get(version_descriptive): \n",
        "    print('loading...')\n",
        "    tag_values = ds_tag_values.get(version_descriptive)\n",
        "    tag2idx = {t: i for i, t in enumerate(tag_values)}\n",
        "  else:   \n",
        "    with open(version_descriptive+\".txt\", 'w') as a: \n",
        "      print(str(tag_values))\n",
        "      a.write(str(tag_values))\n",
        "      model_tags[version_descriptive] = tag_values\n",
        "\n",
        "  \n",
        "\n",
        "  tokenized_texts_and_labels = [\n",
        "      tokenize_and_preserve_labels(sent, labs)\n",
        "      for sent, labs in zip(sentences, labels)\n",
        "  ]\n",
        "\n",
        "  tokenized_texts = [token_label_pair[0] for token_label_pair in tokenized_texts_and_labels]\n",
        "  labels = [token_label_pair[1] for token_label_pair in tokenized_texts_and_labels]\n",
        "\n",
        "  input_ids = pad_sequences([tokenizer.convert_tokens_to_ids(txt) for txt in tokenized_texts],\n",
        "                            maxlen=MAX_LEN, dtype=\"long\", truncating=\"post\", padding=\"post\")\n",
        "\n",
        "\n",
        "  tags = pad_sequences([[tag2idx.get(l) for l in lab] for lab in labels],\n",
        "                      maxlen=MAX_LEN, value=tag2idx[\"PAD\"], padding=\"post\",\n",
        "                      dtype=\"long\", truncating=\"post\")\n",
        "\n",
        "  attention_masks = [[float(i != tag2idx[\"PAD\"]) for i in ii] for ii in input_ids]\n",
        "\n",
        "  tr_inputs, val_inputs, tr_tags, val_tags = train_test_split(input_ids, tags, \n",
        "                                                              random_state=2018, test_size=0.1)\n",
        "  tr_masks, val_masks, _, _ = train_test_split(attention_masks, input_ids,\n",
        "                                              random_state=2018, test_size=0.1)\n",
        "\n",
        "  tr_inputs = torch.tensor(tr_inputs)\n",
        "  val_inputs = torch.tensor(val_inputs)\n",
        "  tr_tags = torch.tensor(tr_tags)\n",
        "  val_tags = torch.tensor(val_tags)\n",
        "  tr_masks = torch.tensor(tr_masks)\n",
        "  val_masks = torch.tensor(val_masks)\n",
        "\n",
        "\n",
        "  train_data = TensorDataset(tr_inputs, tr_masks, tr_tags)\n",
        "  train_sampler = RandomSampler(train_data)\n",
        "  train_dataloader = DataLoader(train_data, sampler=train_sampler, batch_size=bs)\n",
        "\n",
        "  valid_data = TensorDataset(val_inputs, val_masks, val_tags)\n",
        "  valid_sampler = SequentialSampler(valid_data)\n",
        "  valid_dataloader = DataLoader(valid_data, sampler=valid_sampler, batch_size=bs)\n",
        "  for model_prefix, load_model in stored_models.items(): \n",
        "\n",
        "    model_name=model_prefix+ '-model-'+version_descriptive+'-e'+str(epochs)\n",
        "    print(model_name)\n",
        "\n",
        "\n",
        "\n",
        "    # get the model\n",
        "\n",
        "\n",
        "\n",
        "    model = BertForTokenClassification.from_pretrained(\n",
        "          load_model,\n",
        "          num_labels=len(tag2idx),\n",
        "          output_attentions = False,\n",
        "          output_hidden_states = False)\n",
        "\n",
        "    model.cuda();\n",
        "\n",
        "\n",
        "    if FULL_FINETUNING:\n",
        "        param_optimizer = list(model.named_parameters())\n",
        "        no_decay = ['bias', 'gamma', 'beta']\n",
        "        optimizer_grouped_parameters = [\n",
        "            {'params': [p for n, p in param_optimizer if not any(nd in n for nd in no_decay)],\n",
        "            'weight_decay_rate': 0.01},\n",
        "            {'params': [p for n, p in param_optimizer if any(nd in n for nd in no_decay)],\n",
        "            'weight_decay_rate': 0.0}\n",
        "        ]\n",
        "    else:\n",
        "        param_optimizer = list(model.classifier.named_parameters()) \n",
        "        optimizer_grouped_parameters = [{\"params\": [p for n, p in param_optimizer]}]\n",
        "\n",
        "    optimizer = AdamW(\n",
        "        optimizer_grouped_parameters,        \n",
        "        lr=3e-5,\n",
        "        eps=1e-8\n",
        "    )\n",
        "\n",
        "\n",
        "\n",
        "    # Total number of training steps is number of batches * number of epochs.\n",
        "    total_steps = len(train_dataloader) * epochs\n",
        "\n",
        "    # Create the learning rate scheduler.\n",
        "    scheduler = get_linear_schedule_with_warmup(\n",
        "        optimizer, \n",
        "        num_warmup_steps=0,\n",
        "        \n",
        "        num_training_steps=total_steps\n",
        "    )\n",
        "\n",
        "    ## Store the average loss after each epoch so we can plot them.\n",
        "    loss_values, validation_loss_values = [], []\n",
        "\n",
        "    for _ in trange(epochs, desc=\"Epoch\"):\n",
        "        # ========================================\n",
        "        #               Training\n",
        "        # ========================================\n",
        "        # Perform one full pass over the training set.\n",
        "        \n",
        "        # Put the model into training mode.\n",
        "        model.train()\n",
        "        # Reset the total loss for this epoch.\n",
        "        total_loss = 0\n",
        "\n",
        "        # Training loop\n",
        "        for step, batch in enumerate(train_dataloader):\n",
        "            # add batch to gpu\n",
        "            batch = tuple(t.to(device) for t in batch)\n",
        "            b_input_ids, b_input_mask, b_labels = batch\n",
        "            # Always clear any previously calculated gradients before performing a backward pass.\n",
        "            model.zero_grad()\n",
        "            # forward pass\n",
        "            # This will return the loss (rather than the model output)\n",
        "            # because we have provided the `labels`.\n",
        "            outputs = model(b_input_ids, token_type_ids=None,\n",
        "                            attention_mask=b_input_mask, labels=b_labels)\n",
        "            # get the loss\n",
        "            loss = outputs[0]\n",
        "            # Perform a backward pass to calculate the gradients.\n",
        "            loss.backward()\n",
        "            # track train loss\n",
        "            total_loss += loss.item()    \n",
        "            # Clip the norm of the gradient\n",
        "            # This is to help prevent the \"exploding gradients\" problem.\n",
        "            torch.nn.utils.clip_grad_norm_(parameters=model.parameters(), max_norm=max_grad_norm)\n",
        "            # update parameters\n",
        "            optimizer.step()\n",
        "            # Update the learning rate.\n",
        "            scheduler.step()\n",
        "            \n",
        "        # Calculate the average loss over the training data.\n",
        "        avg_train_loss = total_loss / len(train_dataloader)\n",
        "        print(\"Average train loss: {}\".format(avg_train_loss))\n",
        "        \n",
        "        # Store the loss value for plotting the learning curve.\n",
        "        loss_values.append(avg_train_loss)\n",
        "        \n",
        "        \n",
        "        # ========================================\n",
        "        #               Validation\n",
        "        # ========================================\n",
        "        # After the completion of each training epoch, measure our performance on\n",
        "        # our validation set.\n",
        "        \n",
        "        # Put the model into evaluation mode\n",
        "        model.eval()\n",
        "        # Reset the validation loss for this epoch.\n",
        "        eval_loss, eval_accuracy = 0, 0\n",
        "        nb_eval_steps, nb_eval_examples = 0, 0\n",
        "        predictions , true_labels = [], []\n",
        "        for batch in valid_dataloader:\n",
        "            batch = tuple(t.to(device) for t in batch)\n",
        "            b_input_ids, b_input_mask, b_labels = batch\n",
        "            \n",
        "            # Telling the model not to compute or store gradients,\n",
        "            # saving memory and speeding up validation\n",
        "            with torch.no_grad():\n",
        "                # Forward pass, calculate logit predictions.\n",
        "                # This will return the logits rather than the loss because we have not provided labels.\n",
        "                outputs = model(b_input_ids, token_type_ids=None,\n",
        "                                attention_mask=b_input_mask, labels=b_labels)\n",
        "            # Move logits and labels to CPU\n",
        "            logits = outputs[1].detach().cpu().numpy()\n",
        "            label_ids = b_labels.to('cpu').numpy()\n",
        "            \n",
        "            # Calculate the accuracy for this batch of test sentences.\n",
        "            eval_loss += outputs[0].mean().item()\n",
        "            eval_accuracy += flat_accuracy(logits, label_ids)\n",
        "            predictions.extend([list(p) for p in np.argmax(logits, axis=2)])\n",
        "            true_labels.append(label_ids)\n",
        "            \n",
        "            nb_eval_examples += b_input_ids.size(0)\n",
        "            nb_eval_steps += 1\n",
        "        \n",
        "        eval_loss = eval_loss / nb_eval_steps\n",
        "        validation_loss_values.append(eval_loss)\n",
        "        print(\"Validation loss: {}\".format(eval_loss))\n",
        "        print(\"Validation Accuracy: {}\".format(eval_accuracy/nb_eval_steps))\n",
        "        pred_tags = [tag_values[p_i] for p in predictions for p_i in p]\n",
        "        valid_tags = [tag_values[l_ii] for l in true_labels for l_i in l for l_ii in l_i]\n",
        "        print(\"Validation F1-Score: {}\".format(f1_score(pred_tags, valid_tags)))\n",
        "        print()\n",
        "\n",
        "\n",
        "    plt.clf()\n",
        "\n",
        "    # Use plot styling from seaborn.\n",
        "    sns.set(style='darkgrid')\n",
        "\n",
        "    # Increase the plot size and font size.\n",
        "    sns.set(font_scale=1.5)\n",
        "    plt.rcParams[\"figure.figsize\"] = (12,6)\n",
        "\n",
        "    # Plot the learning curve.\n",
        "    plt.plot(loss_values, 'b-o', label=\"training loss\")\n",
        "    plt.plot(validation_loss_values, 'r-o', label=\"validation loss\")\n",
        "\n",
        "    # Label the plot.\n",
        "    plt.title(\"Learning curve\")\n",
        "    plt.xlabel(\"Epoch\")\n",
        "    plt.ylabel(\"Loss\")\n",
        "    plt.legend()\n",
        "\n",
        "    plt.savefig(model_name+'.png', format='png')\n",
        "\n",
        "\n",
        "\n",
        "    # Evaluation\n",
        "\n",
        "    train_labels = labels\n",
        "    getter, sentences, m, n, labels = process_bio(test_data, test_header, label_adapter)\n",
        "\n",
        "    ix=0\n",
        "    correct = labels\n",
        "    predicted = []\n",
        "\n",
        "    for s in sentences:\n",
        "      test_sentence = \" \".join(s)\n",
        "      \n",
        "      tokenized_sentence = tokenizer.encode(test_sentence)\n",
        "      input_ids = torch.tensor([tokenized_sentence]).cuda()\n",
        "\n",
        "      \n",
        "      with torch.no_grad():\n",
        "          output = model(input_ids)\n",
        "      label_indices = np.argmax(output[0].to('cpu').numpy(), axis=2)\n",
        "\n",
        "      tokens = tokenizer.convert_ids_to_tokens(input_ids.to('cpu').numpy()[0])\n",
        "      new_tokens, new_labels = [], []\n",
        "      for token, label_idx in zip(tokens, label_indices[0]):\n",
        "          if token.startswith(\"##\"):\n",
        "              new_tokens[-1] = new_tokens[-1] + token[2:]\n",
        "          else:\n",
        "              new_labels.append(tag_values[label_idx])\n",
        "              new_tokens.append(token)\n",
        "\n",
        "\n",
        "      pred=[]\n",
        "      for wi in range(0, len(labels[ix])):\n",
        "        pred.append(new_labels[wi+1])\n",
        "        \n",
        "      \n",
        "      predicted.append(pred)\n",
        "      ix+=1\n",
        "\n",
        "    correct_flat = [item for sublist in correct for item in sublist]\n",
        "    predicted_flat = [item for sublist in predicted for item in sublist]\n",
        "\n",
        "\n",
        "    target_names = set([item for item in itertools.chain(correct_flat, predicted_flat)])\n",
        "    len(target_names)\n",
        "    with open(model_name+'.log', 'w+') as log: \n",
        "      log.write(classification_report(correct_flat, predicted_flat, target_names=target_names))\n",
        "\n",
        "    torch.save(model.state_dict(), model_name+'.bin')"
      ],
      "execution_count": 0,
      "outputs": [
        {
          "output_type": "stream",
          "text": [
            "\n",
            "loading...\n",
            "bioBert-large-model-hansard-parent-e10\n"
          ],
          "name": "stdout"
        },
        {
          "output_type": "stream",
          "text": [
            "\rEpoch:   0%|          | 0/10 [00:00<?, ?it/s]"
          ],
          "name": "stderr"
        },
        {
          "output_type": "stream",
          "text": [
            "Average train loss: 0.21086657279223767\n"
          ],
          "name": "stdout"
        },
        {
          "output_type": "stream",
          "text": [
            "\rEpoch:  10%|█         | 1/10 [05:16<47:24, 316.05s/it]"
          ],
          "name": "stderr"
        },
        {
          "output_type": "stream",
          "text": [
            "Validation loss: 0.062266579208274685\n",
            "Validation Accuracy: 0.9819270833333333\n",
            "Validation F1-Score: 0.7340675212132154\n",
            "\n",
            "Average train loss: 0.04753717807789316\n"
          ],
          "name": "stdout"
        },
        {
          "output_type": "stream",
          "text": [
            "\rEpoch:  20%|██        | 2/10 [10:30<42:05, 315.66s/it]"
          ],
          "name": "stderr"
        },
        {
          "output_type": "stream",
          "text": [
            "Validation loss: 0.03590586921200156\n",
            "Validation Accuracy: 0.9918923611111109\n",
            "Validation F1-Score: 0.8886418380581805\n",
            "\n",
            "Average train loss: 0.027592407317638817\n"
          ],
          "name": "stdout"
        },
        {
          "output_type": "stream",
          "text": [
            "\rEpoch:  30%|███       | 3/10 [15:45<36:47, 315.33s/it]"
          ],
          "name": "stderr"
        },
        {
          "output_type": "stream",
          "text": [
            "Validation loss: 0.03011472406797111\n",
            "Validation Accuracy: 0.9930729166666666\n",
            "Validation F1-Score: 0.9071627906976744\n",
            "\n",
            "Average train loss: 0.019290461269743247\n"
          ],
          "name": "stdout"
        },
        {
          "output_type": "stream",
          "text": [
            "\rEpoch:  40%|████      | 4/10 [20:59<31:30, 315.01s/it]"
          ],
          "name": "stderr"
        },
        {
          "output_type": "stream",
          "text": [
            "Validation loss: 0.03188174881506711\n",
            "Validation Accuracy: 0.9932291666666666\n",
            "Validation F1-Score: 0.9145394006659268\n",
            "\n",
            "Average train loss: 0.01449608268163536\n"
          ],
          "name": "stdout"
        },
        {
          "output_type": "stream",
          "text": [
            "\rEpoch:  50%|█████     | 5/10 [26:13<26:14, 314.81s/it]"
          ],
          "name": "stderr"
        },
        {
          "output_type": "stream",
          "text": [
            "Validation loss: 0.031212787182691198\n",
            "Validation Accuracy: 0.9936805555555557\n",
            "Validation F1-Score: 0.9203933939506401\n",
            "\n",
            "Average train loss: 0.010814562763904556\n"
          ],
          "name": "stdout"
        },
        {
          "output_type": "stream",
          "text": [
            "\rEpoch:  60%|██████    | 6/10 [31:28<20:58, 314.67s/it]"
          ],
          "name": "stderr"
        },
        {
          "output_type": "stream",
          "text": [
            "Validation loss: 0.03067892025380085\n",
            "Validation Accuracy: 0.9936458333333337\n",
            "Validation F1-Score: 0.9193308550185874\n",
            "\n",
            "Average train loss: 0.008031514085299897\n"
          ],
          "name": "stdout"
        },
        {
          "output_type": "stream",
          "text": [
            "\rEpoch:  70%|███████   | 7/10 [36:42<15:43, 314.57s/it]"
          ],
          "name": "stderr"
        },
        {
          "output_type": "stream",
          "text": [
            "Validation loss: 0.033342110264735915\n",
            "Validation Accuracy: 0.9937847222222222\n",
            "Validation F1-Score: 0.9206467199405314\n",
            "\n",
            "Average train loss: 0.0063797268513502235\n"
          ],
          "name": "stdout"
        },
        {
          "output_type": "stream",
          "text": [
            "\rEpoch:  80%|████████  | 8/10 [41:57<10:29, 314.55s/it]"
          ],
          "name": "stderr"
        },
        {
          "output_type": "stream",
          "text": [
            "Validation loss: 0.033416550179633\n",
            "Validation Accuracy: 0.9940277777777777\n",
            "Validation F1-Score: 0.9265747297800969\n",
            "\n",
            "Average train loss: 0.005097192431797871\n"
          ],
          "name": "stdout"
        },
        {
          "output_type": "stream",
          "text": [
            "\rEpoch:  90%|█████████ | 9/10 [47:11<05:14, 314.47s/it]"
          ],
          "name": "stderr"
        },
        {
          "output_type": "stream",
          "text": [
            "Validation loss: 0.03382427990436554\n",
            "Validation Accuracy: 0.9941145833333332\n",
            "Validation F1-Score: 0.9260845280208528\n",
            "\n",
            "Average train loss: 0.004070428359862593\n"
          ],
          "name": "stdout"
        },
        {
          "output_type": "stream",
          "text": [
            "Epoch: 100%|██████████| 10/10 [52:25<00:00, 314.55s/it]"
          ],
          "name": "stderr"
        },
        {
          "output_type": "stream",
          "text": [
            "Validation loss: 0.03435455025949826\n",
            "Validation Accuracy: 0.9942361111111112\n",
            "Validation F1-Score: 0.9279463787004284\n",
            "\n"
          ],
          "name": "stdout"
        },
        {
          "output_type": "stream",
          "text": [
            "\n",
            "/usr/local/lib/python3.6/dist-packages/sklearn/metrics/_classification.py:1272: UndefinedMetricWarning: Precision and F-score are ill-defined and being set to 0.0 in labels with no predicted samples. Use `zero_division` parameter to control this behavior.\n",
            "  _warn_prf(average, modifier, msg_start, len(result))\n",
            "/usr/local/lib/python3.6/dist-packages/sklearn/metrics/_classification.py:1272: UndefinedMetricWarning: Recall and F-score are ill-defined and being set to 0.0 in labels with no true samples. Use `zero_division` parameter to control this behavior.\n",
            "  _warn_prf(average, modifier, msg_start, len(result))\n"
          ],
          "name": "stderr"
        },
        {
          "output_type": "stream",
          "text": [
            "\n",
            "loading...\n",
            "bioBert-large-model-hansard-closest-e10\n"
          ],
          "name": "stdout"
        },
        {
          "output_type": "stream",
          "text": [
            "\rEpoch:   0%|          | 0/10 [00:00<?, ?it/s]"
          ],
          "name": "stderr"
        },
        {
          "output_type": "stream",
          "text": [
            "Average train loss: 0.2592319892398242\n"
          ],
          "name": "stdout"
        },
        {
          "output_type": "stream",
          "text": [
            "\rEpoch:  10%|█         | 1/10 [03:35<32:19, 215.54s/it]"
          ],
          "name": "stderr"
        },
        {
          "output_type": "stream",
          "text": [
            "Validation loss: 0.08883294764467899\n",
            "Validation Accuracy: 0.9822794117647061\n",
            "Validation F1-Score: 0.6242269916333211\n",
            "\n",
            "Average train loss: 0.0644754323080696\n"
          ],
          "name": "stdout"
        },
        {
          "output_type": "stream",
          "text": [
            "\rEpoch:  20%|██        | 2/10 [07:10<28:42, 215.25s/it]"
          ],
          "name": "stderr"
        },
        {
          "output_type": "stream",
          "text": [
            "Validation loss: 0.03388717244653141\n",
            "Validation Accuracy: 0.9921813725490196\n",
            "Validation F1-Score: 0.8342022940563086\n",
            "\n",
            "Average train loss: 0.030613818909202156\n"
          ],
          "name": "stdout"
        },
        {
          "output_type": "stream",
          "text": [
            "\rEpoch:  30%|███       | 3/10 [10:44<25:05, 215.11s/it]"
          ],
          "name": "stderr"
        },
        {
          "output_type": "stream",
          "text": [
            "Validation loss: 0.025550713324371505\n",
            "Validation Accuracy: 0.9940441176470588\n",
            "Validation F1-Score: 0.9052183173588926\n",
            "\n",
            "Average train loss: 0.018615915244124058\n"
          ],
          "name": "stdout"
        },
        {
          "output_type": "stream",
          "text": [
            "\rEpoch:  40%|████      | 4/10 [14:19<21:30, 215.03s/it]"
          ],
          "name": "stderr"
        },
        {
          "output_type": "stream",
          "text": [
            "Validation loss: 0.01719680451274411\n",
            "Validation Accuracy: 0.9965931372549022\n",
            "Validation F1-Score: 0.9475600873998543\n",
            "\n",
            "Average train loss: 0.012032991212567892\n"
          ],
          "name": "stdout"
        },
        {
          "output_type": "stream",
          "text": [
            "\rEpoch:  50%|█████     | 5/10 [17:54<17:54, 214.87s/it]"
          ],
          "name": "stderr"
        },
        {
          "output_type": "stream",
          "text": [
            "Validation loss: 0.01433849718031364\n",
            "Validation Accuracy: 0.9968137254901963\n",
            "Validation F1-Score: 0.9522098454904778\n",
            "\n",
            "Average train loss: 0.008580123051872541\n"
          ],
          "name": "stdout"
        },
        {
          "output_type": "stream",
          "text": [
            "\rEpoch:  60%|██████    | 6/10 [21:28<14:19, 214.80s/it]"
          ],
          "name": "stderr"
        },
        {
          "output_type": "stream",
          "text": [
            "Validation loss: 0.013037367788509821\n",
            "Validation Accuracy: 0.9972058823529412\n",
            "Validation F1-Score: 0.9602007888131947\n",
            "\n",
            "Average train loss: 0.006263546471018344\n"
          ],
          "name": "stdout"
        },
        {
          "output_type": "stream",
          "text": [
            "\rEpoch:  70%|███████   | 7/10 [25:03<10:44, 214.75s/it]"
          ],
          "name": "stderr"
        },
        {
          "output_type": "stream",
          "text": [
            "Validation loss: 0.011678980110873989\n",
            "Validation Accuracy: 0.9974754901960786\n",
            "Validation F1-Score: 0.9646974063400576\n",
            "\n",
            "Average train loss: 0.005024495105467865\n"
          ],
          "name": "stdout"
        },
        {
          "output_type": "stream",
          "text": [
            "\rEpoch:  80%|████████  | 8/10 [28:37<07:09, 214.63s/it]"
          ],
          "name": "stderr"
        },
        {
          "output_type": "stream",
          "text": [
            "Validation loss: 0.011520382651189506\n",
            "Validation Accuracy: 0.9975980392156863\n",
            "Validation F1-Score: 0.9681851048445408\n",
            "\n",
            "Average train loss: 0.004361257841810584\n"
          ],
          "name": "stdout"
        },
        {
          "output_type": "stream",
          "text": [
            "\rEpoch:  90%|█████████ | 9/10 [32:12<03:34, 214.66s/it]"
          ],
          "name": "stderr"
        },
        {
          "output_type": "stream",
          "text": [
            "Validation loss: 0.0111346169918868\n",
            "Validation Accuracy: 0.997549019607843\n",
            "Validation F1-Score: 0.963708228530363\n",
            "\n",
            "Average train loss: 0.0037374159435597087\n"
          ],
          "name": "stdout"
        },
        {
          "output_type": "stream",
          "text": [
            "Epoch: 100%|██████████| 10/10 [35:46<00:00, 214.69s/it]"
          ],
          "name": "stderr"
        },
        {
          "output_type": "stream",
          "text": [
            "Validation loss: 0.010999200899438137\n",
            "Validation Accuracy: 0.9976225490196079\n",
            "Validation F1-Score: 0.9654676258992806\n",
            "\n"
          ],
          "name": "stdout"
        },
        {
          "output_type": "stream",
          "text": [
            "\n"
          ],
          "name": "stderr"
        },
        {
          "output_type": "stream",
          "text": [
            "\n",
            "loading...\n",
            "bioBert-large-model-foodon-e10\n"
          ],
          "name": "stdout"
        },
        {
          "output_type": "stream",
          "text": [
            "\rEpoch:   0%|          | 0/10 [00:00<?, ?it/s]"
          ],
          "name": "stderr"
        },
        {
          "output_type": "stream",
          "text": [
            "Average train loss: 0.2840137624791984\n"
          ],
          "name": "stdout"
        },
        {
          "output_type": "stream",
          "text": [
            "\rEpoch:  10%|█         | 1/10 [03:35<32:18, 215.39s/it]"
          ],
          "name": "stderr"
        },
        {
          "output_type": "stream",
          "text": [
            "Validation loss: 0.13327889451209238\n",
            "Validation Accuracy: 0.9800735294117648\n",
            "Validation F1-Score: 0.6218181818181818\n",
            "\n",
            "Average train loss: 0.12046127668742476\n"
          ],
          "name": "stdout"
        },
        {
          "output_type": "stream",
          "text": [
            "\rEpoch:  20%|██        | 2/10 [07:10<28:42, 215.32s/it]"
          ],
          "name": "stderr"
        },
        {
          "output_type": "stream",
          "text": [
            "Validation loss: 0.09413082568961031\n",
            "Validation Accuracy: 0.984485294117647\n",
            "Validation F1-Score: 0.659908768373036\n",
            "\n",
            "Average train loss: 0.07521423992925677\n"
          ],
          "name": "stdout"
        },
        {
          "output_type": "stream",
          "text": [
            "\rEpoch:  30%|███       | 3/10 [10:45<25:06, 215.25s/it]"
          ],
          "name": "stderr"
        },
        {
          "output_type": "stream",
          "text": [
            "Validation loss: 0.044612636680112165\n",
            "Validation Accuracy: 0.991544117647059\n",
            "Validation F1-Score: 0.7803193785066898\n",
            "\n",
            "Average train loss: 0.04188489494524125\n"
          ],
          "name": "stdout"
        },
        {
          "output_type": "stream",
          "text": [
            "\rEpoch:  40%|████      | 4/10 [14:20<21:31, 215.19s/it]"
          ],
          "name": "stderr"
        },
        {
          "output_type": "stream",
          "text": [
            "Validation loss: 0.031458718154360264\n",
            "Validation Accuracy: 0.9927450980392158\n",
            "Validation F1-Score: 0.8360375747224594\n",
            "\n",
            "Average train loss: 0.027658837587283602\n"
          ],
          "name": "stdout"
        },
        {
          "output_type": "stream",
          "text": [
            "\rEpoch:  50%|█████     | 5/10 [17:55<17:55, 215.04s/it]"
          ],
          "name": "stderr"
        },
        {
          "output_type": "stream",
          "text": [
            "Validation loss: 0.02487463279206114\n",
            "Validation Accuracy: 0.9946323529411764\n",
            "Validation F1-Score: 0.8721227621483377\n",
            "\n",
            "Average train loss: 0.02042021507333065\n"
          ],
          "name": "stdout"
        },
        {
          "output_type": "stream",
          "text": [
            "\rEpoch:  60%|██████    | 6/10 [21:29<14:19, 214.87s/it]"
          ],
          "name": "stderr"
        },
        {
          "output_type": "stream",
          "text": [
            "Validation loss: 0.02129970038710299\n",
            "Validation Accuracy: 0.9958823529411764\n",
            "Validation F1-Score: 0.9035884133160398\n",
            "\n",
            "Average train loss: 0.015503468785178045\n"
          ],
          "name": "stdout"
        },
        {
          "output_type": "stream",
          "text": [
            "\rEpoch:  70%|███████   | 7/10 [25:04<10:44, 214.84s/it]"
          ],
          "name": "stderr"
        },
        {
          "output_type": "stream",
          "text": [
            "Validation loss: 0.019768130172023494\n",
            "Validation Accuracy: 0.9966666666666668\n",
            "Validation F1-Score: 0.9276116168183788\n",
            "\n",
            "Average train loss: 0.012492780447014254\n"
          ],
          "name": "stdout"
        },
        {
          "output_type": "stream",
          "text": [
            "\rEpoch:  80%|████████  | 8/10 [28:39<07:09, 214.81s/it]"
          ],
          "name": "stderr"
        },
        {
          "output_type": "stream",
          "text": [
            "Validation loss: 0.019950868007607127\n",
            "Validation Accuracy: 0.996642156862745\n",
            "Validation F1-Score: 0.9355961705831157\n",
            "\n",
            "Average train loss: 0.01091787779687679\n"
          ],
          "name": "stdout"
        },
        {
          "output_type": "stream",
          "text": [
            "\rEpoch:  90%|█████████ | 9/10 [32:13<03:34, 214.74s/it]"
          ],
          "name": "stderr"
        },
        {
          "output_type": "stream",
          "text": [
            "Validation loss: 0.01960374870866551\n",
            "Validation Accuracy: 0.9968872549019607\n",
            "Validation F1-Score: 0.9439579684763573\n",
            "\n",
            "Average train loss: 0.009963684090702184\n"
          ],
          "name": "stdout"
        },
        {
          "output_type": "stream",
          "text": [
            "Epoch: 100%|██████████| 10/10 [35:48<00:00, 214.87s/it]"
          ],
          "name": "stderr"
        },
        {
          "output_type": "stream",
          "text": [
            "Validation loss: 0.019449904207516844\n",
            "Validation Accuracy: 0.9968382352941176\n",
            "Validation F1-Score: 0.9393278044522043\n",
            "\n"
          ],
          "name": "stdout"
        },
        {
          "output_type": "stream",
          "text": [
            "\n"
          ],
          "name": "stderr"
        },
        {
          "output_type": "stream",
          "text": [
            "\n",
            "loading...\n",
            "bioBert-large-model-snomedct-e10\n"
          ],
          "name": "stdout"
        },
        {
          "output_type": "stream",
          "text": [
            "\rEpoch:   0%|          | 0/10 [00:00<?, ?it/s]"
          ],
          "name": "stderr"
        },
        {
          "output_type": "stream",
          "text": [
            "Average train loss: 0.3899617106493177\n"
          ],
          "name": "stdout"
        },
        {
          "output_type": "stream",
          "text": [
            "\rEpoch:  10%|█         | 1/10 [03:35<32:19, 215.46s/it]"
          ],
          "name": "stderr"
        },
        {
          "output_type": "stream",
          "text": [
            "Validation loss: 0.12156940098194514\n",
            "Validation Accuracy: 0.9809313725490199\n",
            "Validation F1-Score: 0.6221952698605215\n",
            "\n",
            "Average train loss: 0.0864097043614963\n"
          ],
          "name": "stdout"
        },
        {
          "output_type": "stream",
          "text": [
            "\rEpoch:  20%|██        | 2/10 [07:10<28:42, 215.28s/it]"
          ],
          "name": "stderr"
        },
        {
          "output_type": "stream",
          "text": [
            "Validation loss: 0.05036153139628689\n",
            "Validation Accuracy: 0.9907598039215687\n",
            "Validation F1-Score: 0.7735596248325144\n",
            "\n",
            "Average train loss: 0.04078403140321888\n"
          ],
          "name": "stdout"
        },
        {
          "output_type": "stream",
          "text": [
            "\rEpoch:  30%|███       | 3/10 [10:45<25:06, 215.15s/it]"
          ],
          "name": "stderr"
        },
        {
          "output_type": "stream",
          "text": [
            "Validation loss: 0.03466906466757577\n",
            "Validation Accuracy: 0.9937990196078431\n",
            "Validation F1-Score: 0.8481123792800702\n",
            "\n",
            "Average train loss: 0.025357602755057402\n"
          ],
          "name": "stdout"
        },
        {
          "output_type": "stream",
          "text": [
            "\rEpoch:  40%|████      | 4/10 [14:19<21:30, 215.02s/it]"
          ],
          "name": "stderr"
        },
        {
          "output_type": "stream",
          "text": [
            "Validation loss: 0.02340139221632853\n",
            "Validation Accuracy: 0.9952450980392156\n",
            "Validation F1-Score: 0.883061049011178\n",
            "\n",
            "Average train loss: 0.017614301653771564\n"
          ],
          "name": "stdout"
        },
        {
          "output_type": "stream",
          "text": [
            "\rEpoch:  50%|█████     | 5/10 [17:54<17:54, 214.97s/it]"
          ],
          "name": "stderr"
        },
        {
          "output_type": "stream",
          "text": [
            "Validation loss: 0.019895157399279176\n",
            "Validation Accuracy: 0.9963970588235294\n",
            "Validation F1-Score: 0.9149028077753779\n",
            "\n",
            "Average train loss: 0.012517188680518805\n"
          ],
          "name": "stdout"
        },
        {
          "output_type": "stream",
          "text": [
            "\rEpoch:  60%|██████    | 6/10 [21:29<14:19, 214.80s/it]"
          ],
          "name": "stderr"
        },
        {
          "output_type": "stream",
          "text": [
            "Validation loss: 0.016760978909159722\n",
            "Validation Accuracy: 0.9971078431372549\n",
            "Validation F1-Score: 0.9372822299651569\n",
            "\n",
            "Average train loss: 0.009384174369564601\n"
          ],
          "name": "stdout"
        },
        {
          "output_type": "stream",
          "text": [
            "\rEpoch:  70%|███████   | 7/10 [25:03<10:44, 214.77s/it]"
          ],
          "name": "stderr"
        },
        {
          "output_type": "stream",
          "text": [
            "Validation loss: 0.016661075436465635\n",
            "Validation Accuracy: 0.9975245098039217\n",
            "Validation F1-Score: 0.9451994739149496\n",
            "\n",
            "Average train loss: 0.007579083295121532\n"
          ],
          "name": "stdout"
        },
        {
          "output_type": "stream",
          "text": [
            "\rEpoch:  80%|████████  | 8/10 [28:38<07:09, 214.66s/it]"
          ],
          "name": "stderr"
        },
        {
          "output_type": "stream",
          "text": [
            "Validation loss: 0.015443327003167188\n",
            "Validation Accuracy: 0.9975490196078433\n",
            "Validation F1-Score: 0.9501312335958005\n",
            "\n",
            "Average train loss: 0.006498990212727723\n"
          ],
          "name": "stdout"
        },
        {
          "output_type": "stream",
          "text": [
            "\rEpoch:  90%|█████████ | 9/10 [32:12<03:34, 214.66s/it]"
          ],
          "name": "stderr"
        },
        {
          "output_type": "stream",
          "text": [
            "Validation loss: 0.014642290451079402\n",
            "Validation Accuracy: 0.997671568627451\n",
            "Validation F1-Score: 0.9509632224168126\n",
            "\n",
            "Average train loss: 0.005934786407180644\n"
          ],
          "name": "stdout"
        },
        {
          "output_type": "stream",
          "text": [
            "Epoch: 100%|██████████| 10/10 [35:47<00:00, 214.76s/it]"
          ],
          "name": "stderr"
        },
        {
          "output_type": "stream",
          "text": [
            "Validation loss: 0.014709935947180116\n",
            "Validation Accuracy: 0.9977696078431372\n",
            "Validation F1-Score: 0.9556433904259991\n",
            "\n"
          ],
          "name": "stdout"
        },
        {
          "output_type": "stream",
          "text": [
            "\n"
          ],
          "name": "stderr"
        },
        {
          "output_type": "display_data",
          "data": {
            "image/png": "[encoded data removed]",
            "text/plain": [
              "<Figure size 864x432 with 1 Axes>"
            ]
          },
          "metadata": {
            "tags": []
          }
        }
      ]
    },
    {
      "cell_type": "markdown",
      "metadata": {
        "id": "8T2HYjG9DX4a",
        "colab_type": "text"
      },
      "source": [
        "## Restore model"
      ]
    }
  ]
}